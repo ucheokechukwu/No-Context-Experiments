{
  "cells": [
    {
      "cell_type": "markdown",
      "metadata": {
        "id": "view-in-github",
        "colab_type": "text"
      },
      "source": [
        "<a href=\"https://colab.research.google.com/github/ucheokechukwu/No-Context-Experiments/blob/main/Duplicate-Detector/2%20Features%20Model/Fine_Tuning_the_Selected_(2_features)_model.ipynb\" target=\"_parent\"><img src=\"https://colab.research.google.com/assets/colab-badge.svg\" alt=\"Open In Colab\"/></a>"
      ]
    },
    {
      "cell_type": "markdown",
      "metadata": {
        "id": "8DxNFiQKgz0H"
      },
      "source": [
        "**Note**: This notebook continues from the previous notebook on EDA and Feature Engineering. Most of this Notebook was prepared with Google Colab. The URLs to file locations on Google Drive can be replaced by the local file path. i.e. `/content/drive/MyDrive/output/train_complete.csv` should be substituted with `../output/train_complete.csv`\n",
        "\n",
        "Please note that some files were considered too large for Git and are not available."
      ]
    },
    {
      "cell_type": "code",
      "execution_count": 1,
      "metadata": {
        "colab": {
          "base_uri": "https://localhost:8080/"
        },
        "id": "BNRGA5ktvnzt",
        "outputId": "376089fa-5484-492c-bf07-89069aa37502"
      },
      "outputs": [
        {
          "output_type": "stream",
          "name": "stdout",
          "text": [
            "Mounted at drive\n"
          ]
        }
      ],
      "source": [
        "from google.colab import drive\n",
        "drive.mount('drive')\n",
        "import os\n",
        "os.chdir(\"/content/drive/MyDrive/MLOPs_Projects/Quora_Duplicate_Dectector_V2/src\")"
      ]
    },
    {
      "cell_type": "markdown",
      "metadata": {
        "id": "D9L6A7B0djt8"
      },
      "source": [
        "# Modeling - Deep Learning\n",
        "\n",
        "Deep Learning experiments start here. The strategy is to start with a simple model and one feature, and build up on from there."
      ]
    },
    {
      "cell_type": "markdown",
      "metadata": {
        "id": "0pZOllgVfg_x"
      },
      "source": [
        "## Note on Building the Dataset\n",
        "\n",
        "The csvs datasets will be converted to the Tensorflow's `.dataset` class, which will optimize the training process and reduce the memory load on the processors.\n",
        "\n",
        "From the website:\n",
        "\n",
        "https://www.tensorflow.org/api_docs/python/tf/data/Dataset\n",
        "\n",
        "The `tf.data.Dataset API` supports writing descriptive and efficient input pipelines. Dataset usage follows a common pattern:\n",
        "\n",
        "- Create a source dataset from your input data.\n",
        "- Apply dataset transformations to preprocess the data.\n",
        "- Iterate over the dataset and process the elements.\n",
        "Iteration happens in a streaming fashion, **so the full dataset does not need to fit into memory**.\n",
        "\n",
        "\n"
      ]
    },
    {
      "cell_type": "code",
      "source": [
        "import sys\n",
        "sys.path.append('trainer')\n",
        "from model_trainer import *\n",
        "from model_builder import *\n",
        "from dataset_builder import *\n",
        "\n",
        "train_df, test_df, y_test, y_train = get_train_test_df_2_features()\n",
        "train_dataset, validation_dataset, test_dataset = get_model_6_dataset(train_df, test_df)"
      ],
      "metadata": {
        "id": "D9gIejLGD8y_"
      },
      "execution_count": 2,
      "outputs": []
    },
    {
      "cell_type": "markdown",
      "source": [
        "## GridSearch Model\n"
      ],
      "metadata": {
        "id": "txp1q8uIiSoR"
      }
    },
    {
      "cell_type": "code",
      "source": [
        "from sklearn.model_selection import ParameterGrid\n",
        "from tqdm.auto import tqdm\n",
        "    # putting the hyperparameters into a grid\n",
        "params = {\n",
        "        'features_hidden_units' : [8],\n",
        "        'concat_hidden_units' : [128],\n",
        "        'dropout' : [False],\n",
        "    }\n",
        "param_grid = ParameterGrid(params)\n",
        "\n",
        "models_dictionary = {}"
      ],
      "metadata": {
        "id": "prPWsU6TL-aB"
      },
      "execution_count": 3,
      "outputs": []
    },
    {
      "cell_type": "code",
      "source": [
        "for dict_ in tqdm(param_grid):\n",
        "    print('\\n\\n\\nParameters :', dict_.values())\n",
        "\n",
        "    concat_hidden_units, dropout, features_hidden_units = dict_.values()\n",
        "\n",
        "    model, name = build_grid_model(features_hidden_units, concat_hidden_units, dropout)\n",
        "    print(f\"Training Model {name}\")\n",
        "    model, history = train_model(model, name,\n",
        "                                train_dataset,\n",
        "                                validation_dataset,\n",
        "                                 patience=15,\n",
        "                                 num_epochs=150)\n",
        "    models_dictionary[name] = [model, test_dataset, history]\n",
        "\n"
      ],
      "metadata": {
        "colab": {
          "base_uri": "https://localhost:8080/",
          "height": 1000,
          "referenced_widgets": [
            "aa38b20753ce43298929893d3cca7955",
            "518ebae41f4b4f5fbac501bef6a83b32",
            "8a898e8d615247fba2403315b4441021",
            "ea7153cba6a14cfd85c43cc494dcacee",
            "aee3d187e70e41c685777fbbb09543c3",
            "39fc893c137e41f09bd03537ac2e6968",
            "da78a0daac154ef892aa70b2b86a094d",
            "f07d1efdf47349199f4905a28b1b80a0",
            "2876abc6433d4d2cbcdc6aea2af398d3",
            "040d750434444d62992597916fbe3639",
            "cd4c1e4eda8e416f9711b24680527205"
          ]
        },
        "id": "ItKCx5y_RQAG",
        "outputId": "b5ec63bb-2bdf-481a-9824-f0da67904ce6"
      },
      "execution_count": null,
      "outputs": [
        {
          "output_type": "display_data",
          "data": {
            "text/plain": [
              "  0%|          | 0/1 [00:00<?, ?it/s]"
            ],
            "application/vnd.jupyter.widget-view+json": {
              "version_major": 2,
              "version_minor": 0,
              "model_id": "aa38b20753ce43298929893d3cca7955"
            }
          },
          "metadata": {}
        },
        {
          "output_type": "stream",
          "name": "stdout",
          "text": [
            "\n",
            "\n",
            "\n",
            "Parameters : dict_values([128, False, 8])\n"
          ]
        },
        {
          "output_type": "display_data",
          "data": {
            "image/png": "[encoded data removed]",
            "text/plain": [
              "<IPython.core.display.Image object>"
            ]
          },
          "metadata": {}
        },
        {
          "output_type": "stream",
          "name": "stdout",
          "text": [
            "Training Model model_features_hidden_units_8_concat_hidden_units_128_dropout_False\n",
            "Epoch 1/150\n",
            "258/258 [==============================] - 42s 120ms/step - loss: 0.5438 - accuracy: 0.7221 - val_loss: 0.4993 - val_accuracy: 0.7522\n",
            "Epoch 2/150\n",
            "258/258 [==============================] - 26s 102ms/step - loss: 0.5026 - accuracy: 0.7475 - val_loss: 0.4765 - val_accuracy: 0.7768\n",
            "Epoch 3/150\n",
            "258/258 [==============================] - 27s 106ms/step - loss: 0.4864 - accuracy: 0.7569 - val_loss: 0.5033 - val_accuracy: 0.7623\n",
            "Epoch 4/150\n",
            "258/258 [==============================] - 29s 111ms/step - loss: 0.4871 - accuracy: 0.7550 - val_loss: 0.4686 - val_accuracy: 0.7701\n",
            "Epoch 5/150\n",
            "258/258 [==============================] - 25s 98ms/step - loss: 0.4693 - accuracy: 0.7678 - val_loss: 0.4722 - val_accuracy: 0.7712\n",
            "Epoch 6/150\n",
            "258/258 [==============================] - 29s 112ms/step - loss: 0.4749 - accuracy: 0.7690 - val_loss: 0.4676 - val_accuracy: 0.7690\n",
            "Epoch 7/150\n",
            "258/258 [==============================] - 28s 109ms/step - loss: 0.4682 - accuracy: 0.7666 - val_loss: 0.4538 - val_accuracy: 0.7656\n",
            "Epoch 8/150\n",
            "149/258 [================>.............] - ETA: 11s - loss: 0.4764 - accuracy: 0.7674"
          ]
        }
      ]
    },
    {
      "cell_type": "markdown",
      "metadata": {
        "id": "PmyRdPH2DXNw"
      },
      "source": [
        "# Evaluations"
      ]
    },
    {
      "cell_type": "code",
      "execution_count": null,
      "metadata": {
        "id": "6IN3BME53Y6M"
      },
      "outputs": [],
      "source": [
        "import matplotlib.pyplot as plt\n",
        "\n",
        "results = []\n",
        "for k, v in models_dictionary.items():\n",
        "    model_name = k\n",
        "    model, test_data = v[0], v[1]\n",
        "    result, _ = calculate_results(model, test_data, y_test)\n",
        "    results.append(result)\n",
        "\n",
        "all_results = pd.DataFrame(results)\n",
        "all_results.index = models_dictionary.keys()\n",
        "plt.figure(figsize=(20,20))\n",
        "all_results = all_results.sort_values('f1', ascending=False)\n",
        "\n",
        "all_results.plot(kind='barh')\n",
        "plt.legend(loc='lower right', title='Metrics')\n",
        "plt.title('Performance Scores')\n",
        "plt.show()"
      ]
    },
    {
      "cell_type": "code",
      "source": [
        "all_results"
      ],
      "metadata": {
        "id": "_5azdtnwSasf"
      },
      "execution_count": null,
      "outputs": []
    },
    {
      "cell_type": "code",
      "execution_count": null,
      "metadata": {
        "id": "EepHYv4bBu4U"
      },
      "outputs": [],
      "source": [
        "fig, ax = plt.subplots(2,len(models_dictionary), figsize=(4,len(models_dictionary)*8))\n",
        "i = 0\n",
        "for k, v in models_dictionary.items():\n",
        "    title = k\n",
        "    history = v[-1]\n",
        "    plot_history(history, title, ax[i])\n",
        "    i +=1\n",
        "    if i==1:\n",
        "        ax[i].set_visible(False)\n",
        "plt.show()"
      ]
    },
    {
      "cell_type": "code",
      "source": [
        "!mkdir ../models/tf2_model"
      ],
      "metadata": {
        "id": "p5juc3RJTxzX"
      },
      "execution_count": 14,
      "outputs": []
    },
    {
      "cell_type": "code",
      "source": [
        "for v in models_dictionary.values():\n",
        "    model = v\n",
        "    break"
      ],
      "metadata": {
        "id": "zohsY5W7T7fo"
      },
      "execution_count": 20,
      "outputs": []
    },
    {
      "cell_type": "code",
      "source": [
        "# loaded_model = tf.keras.saving.load_model(\"../models/tf2_model/tf_model\")\n",
        "import numpy as np\n",
        "assert np.allclose(model.predict(test_dataset), model.predict(test_dataset))\n"
      ],
      "metadata": {
        "colab": {
          "base_uri": "https://localhost:8080/",
          "height": 245
        },
        "id": "Mfb1jISgUSCL",
        "outputId": "28fd8ecd-2ffe-4412-8b3c-d4386ca41022"
      },
      "execution_count": 33,
      "outputs": [
        {
          "output_type": "stream",
          "name": "stdout",
          "text": [
            "316/316 [==============================] - 16s 51ms/step\n",
            "316/316 [==============================] - 14s 45ms/step\n"
          ]
        },
        {
          "output_type": "error",
          "ename": "AssertionError",
          "evalue": "ignored",
          "traceback": [
            "\u001b[0;31m---------------------------------------------------------------------------\u001b[0m",
            "\u001b[0;31mAssertionError\u001b[0m                            Traceback (most recent call last)",
            "\u001b[0;32m<ipython-input-33-d4abb8ff6b3c>\u001b[0m in \u001b[0;36m<cell line: 3>\u001b[0;34m()\u001b[0m\n\u001b[1;32m      1\u001b[0m \u001b[0;31m# loaded_model = tf.keras.saving.load_model(\"../models/tf2_model/tf_model\")\u001b[0m\u001b[0;34m\u001b[0m\u001b[0;34m\u001b[0m\u001b[0m\n\u001b[1;32m      2\u001b[0m \u001b[0;31m# import numpy as np\u001b[0m\u001b[0;34m\u001b[0m\u001b[0;34m\u001b[0m\u001b[0m\n\u001b[0;32m----> 3\u001b[0;31m \u001b[0;32massert\u001b[0m \u001b[0mnp\u001b[0m\u001b[0;34m.\u001b[0m\u001b[0mallclose\u001b[0m\u001b[0;34m(\u001b[0m\u001b[0mmodel\u001b[0m\u001b[0;34m.\u001b[0m\u001b[0mpredict\u001b[0m\u001b[0;34m(\u001b[0m\u001b[0mtest_dataset\u001b[0m\u001b[0;34m)\u001b[0m\u001b[0;34m,\u001b[0m \u001b[0mmodel\u001b[0m\u001b[0;34m.\u001b[0m\u001b[0mpredict\u001b[0m\u001b[0;34m(\u001b[0m\u001b[0mtest_dataset\u001b[0m\u001b[0;34m)\u001b[0m\u001b[0;34m)\u001b[0m\u001b[0;34m\u001b[0m\u001b[0;34m\u001b[0m\u001b[0m\n\u001b[0m",
            "\u001b[0;31mAssertionError\u001b[0m: "
          ]
        }
      ]
    },
    {
      "cell_type": "code",
      "source": [
        "import time\n",
        "time.time()"
      ],
      "metadata": {
        "colab": {
          "base_uri": "https://localhost:8080/"
        },
        "id": "93X2TnW_Vas-",
        "outputId": "87d01dc9-dbeb-43b2-cef0-acdc86cab66c"
      },
      "execution_count": 34,
      "outputs": [
        {
          "output_type": "execute_result",
          "data": {
            "text/plain": [
              "1701030951.0225236"
            ]
          },
          "metadata": {},
          "execution_count": 34
        }
      ]
    },
    {
      "cell_type": "code",
      "source": [],
      "metadata": {
        "id": "IywyDbsxWHN9"
      },
      "execution_count": null,
      "outputs": []
    }
  ],
  "metadata": {
    "accelerator": "GPU",
    "colab": {
      "provenance": [],
      "include_colab_link": true
    },
    "kernelspec": {
      "display_name": "Python 3",
      "name": "python3"
    },
    "language_info": {
      "codemirror_mode": {
        "name": "ipython",
        "version": 3
      },
      "file_extension": ".py",
      "mimetype": "text/x-python",
      "name": "python",
      "nbconvert_exporter": "python",
      "pygments_lexer": "ipython3",
      "version": "3.8.16"
    },
    "widgets": {
      "application/vnd.jupyter.widget-state+json": {
        "aa38b20753ce43298929893d3cca7955": {
          "model_module": "@jupyter-widgets/controls",
          "model_name": "HBoxModel",
          "model_module_version": "1.5.0",
          "state": {
            "_dom_classes": [],
            "_model_module": "@jupyter-widgets/controls",
            "_model_module_version": "1.5.0",
            "_model_name": "HBoxModel",
            "_view_count": null,
            "_view_module": "@jupyter-widgets/controls",
            "_view_module_version": "1.5.0",
            "_view_name": "HBoxView",
            "box_style": "",
            "children": [
              "IPY_MODEL_518ebae41f4b4f5fbac501bef6a83b32",
              "IPY_MODEL_8a898e8d615247fba2403315b4441021",
              "IPY_MODEL_ea7153cba6a14cfd85c43cc494dcacee"
            ],
            "layout": "IPY_MODEL_aee3d187e70e41c685777fbbb09543c3"
          }
        },
        "518ebae41f4b4f5fbac501bef6a83b32": {
          "model_module": "@jupyter-widgets/controls",
          "model_name": "HTMLModel",
          "model_module_version": "1.5.0",
          "state": {
            "_dom_classes": [],
            "_model_module": "@jupyter-widgets/controls",
            "_model_module_version": "1.5.0",
            "_model_name": "HTMLModel",
            "_view_count": null,
            "_view_module": "@jupyter-widgets/controls",
            "_view_module_version": "1.5.0",
            "_view_name": "HTMLView",
            "description": "",
            "description_tooltip": null,
            "layout": "IPY_MODEL_39fc893c137e41f09bd03537ac2e6968",
            "placeholder": "​",
            "style": "IPY_MODEL_da78a0daac154ef892aa70b2b86a094d",
            "value": "  0%"
          }
        },
        "8a898e8d615247fba2403315b4441021": {
          "model_module": "@jupyter-widgets/controls",
          "model_name": "FloatProgressModel",
          "model_module_version": "1.5.0",
          "state": {
            "_dom_classes": [],
            "_model_module": "@jupyter-widgets/controls",
            "_model_module_version": "1.5.0",
            "_model_name": "FloatProgressModel",
            "_view_count": null,
            "_view_module": "@jupyter-widgets/controls",
            "_view_module_version": "1.5.0",
            "_view_name": "ProgressView",
            "bar_style": "",
            "description": "",
            "description_tooltip": null,
            "layout": "IPY_MODEL_f07d1efdf47349199f4905a28b1b80a0",
            "max": 1,
            "min": 0,
            "orientation": "horizontal",
            "style": "IPY_MODEL_2876abc6433d4d2cbcdc6aea2af398d3",
            "value": 0
          }
        },
        "ea7153cba6a14cfd85c43cc494dcacee": {
          "model_module": "@jupyter-widgets/controls",
          "model_name": "HTMLModel",
          "model_module_version": "1.5.0",
          "state": {
            "_dom_classes": [],
            "_model_module": "@jupyter-widgets/controls",
            "_model_module_version": "1.5.0",
            "_model_name": "HTMLModel",
            "_view_count": null,
            "_view_module": "@jupyter-widgets/controls",
            "_view_module_version": "1.5.0",
            "_view_name": "HTMLView",
            "description": "",
            "description_tooltip": null,
            "layout": "IPY_MODEL_040d750434444d62992597916fbe3639",
            "placeholder": "​",
            "style": "IPY_MODEL_cd4c1e4eda8e416f9711b24680527205",
            "value": " 0/1 [00:00&lt;?, ?it/s]"
          }
        },
        "aee3d187e70e41c685777fbbb09543c3": {
          "model_module": "@jupyter-widgets/base",
          "model_name": "LayoutModel",
          "model_module_version": "1.2.0",
          "state": {
            "_model_module": "@jupyter-widgets/base",
            "_model_module_version": "1.2.0",
            "_model_name": "LayoutModel",
            "_view_count": null,
            "_view_module": "@jupyter-widgets/base",
            "_view_module_version": "1.2.0",
            "_view_name": "LayoutView",
            "align_content": null,
            "align_items": null,
            "align_self": null,
            "border": null,
            "bottom": null,
            "display": null,
            "flex": null,
            "flex_flow": null,
            "grid_area": null,
            "grid_auto_columns": null,
            "grid_auto_flow": null,
            "grid_auto_rows": null,
            "grid_column": null,
            "grid_gap": null,
            "grid_row": null,
            "grid_template_areas": null,
            "grid_template_columns": null,
            "grid_template_rows": null,
            "height": null,
            "justify_content": null,
            "justify_items": null,
            "left": null,
            "margin": null,
            "max_height": null,
            "max_width": null,
            "min_height": null,
            "min_width": null,
            "object_fit": null,
            "object_position": null,
            "order": null,
            "overflow": null,
            "overflow_x": null,
            "overflow_y": null,
            "padding": null,
            "right": null,
            "top": null,
            "visibility": null,
            "width": null
          }
        },
        "39fc893c137e41f09bd03537ac2e6968": {
          "model_module": "@jupyter-widgets/base",
          "model_name": "LayoutModel",
          "model_module_version": "1.2.0",
          "state": {
            "_model_module": "@jupyter-widgets/base",
            "_model_module_version": "1.2.0",
            "_model_name": "LayoutModel",
            "_view_count": null,
            "_view_module": "@jupyter-widgets/base",
            "_view_module_version": "1.2.0",
            "_view_name": "LayoutView",
            "align_content": null,
            "align_items": null,
            "align_self": null,
            "border": null,
            "bottom": null,
            "display": null,
            "flex": null,
            "flex_flow": null,
            "grid_area": null,
            "grid_auto_columns": null,
            "grid_auto_flow": null,
            "grid_auto_rows": null,
            "grid_column": null,
            "grid_gap": null,
            "grid_row": null,
            "grid_template_areas": null,
            "grid_template_columns": null,
            "grid_template_rows": null,
            "height": null,
            "justify_content": null,
            "justify_items": null,
            "left": null,
            "margin": null,
            "max_height": null,
            "max_width": null,
            "min_height": null,
            "min_width": null,
            "object_fit": null,
            "object_position": null,
            "order": null,
            "overflow": null,
            "overflow_x": null,
            "overflow_y": null,
            "padding": null,
            "right": null,
            "top": null,
            "visibility": null,
            "width": null
          }
        },
        "da78a0daac154ef892aa70b2b86a094d": {
          "model_module": "@jupyter-widgets/controls",
          "model_name": "DescriptionStyleModel",
          "model_module_version": "1.5.0",
          "state": {
            "_model_module": "@jupyter-widgets/controls",
            "_model_module_version": "1.5.0",
            "_model_name": "DescriptionStyleModel",
            "_view_count": null,
            "_view_module": "@jupyter-widgets/base",
            "_view_module_version": "1.2.0",
            "_view_name": "StyleView",
            "description_width": ""
          }
        },
        "f07d1efdf47349199f4905a28b1b80a0": {
          "model_module": "@jupyter-widgets/base",
          "model_name": "LayoutModel",
          "model_module_version": "1.2.0",
          "state": {
            "_model_module": "@jupyter-widgets/base",
            "_model_module_version": "1.2.0",
            "_model_name": "LayoutModel",
            "_view_count": null,
            "_view_module": "@jupyter-widgets/base",
            "_view_module_version": "1.2.0",
            "_view_name": "LayoutView",
            "align_content": null,
            "align_items": null,
            "align_self": null,
            "border": null,
            "bottom": null,
            "display": null,
            "flex": null,
            "flex_flow": null,
            "grid_area": null,
            "grid_auto_columns": null,
            "grid_auto_flow": null,
            "grid_auto_rows": null,
            "grid_column": null,
            "grid_gap": null,
            "grid_row": null,
            "grid_template_areas": null,
            "grid_template_columns": null,
            "grid_template_rows": null,
            "height": null,
            "justify_content": null,
            "justify_items": null,
            "left": null,
            "margin": null,
            "max_height": null,
            "max_width": null,
            "min_height": null,
            "min_width": null,
            "object_fit": null,
            "object_position": null,
            "order": null,
            "overflow": null,
            "overflow_x": null,
            "overflow_y": null,
            "padding": null,
            "right": null,
            "top": null,
            "visibility": null,
            "width": null
          }
        },
        "2876abc6433d4d2cbcdc6aea2af398d3": {
          "model_module": "@jupyter-widgets/controls",
          "model_name": "ProgressStyleModel",
          "model_module_version": "1.5.0",
          "state": {
            "_model_module": "@jupyter-widgets/controls",
            "_model_module_version": "1.5.0",
            "_model_name": "ProgressStyleModel",
            "_view_count": null,
            "_view_module": "@jupyter-widgets/base",
            "_view_module_version": "1.2.0",
            "_view_name": "StyleView",
            "bar_color": null,
            "description_width": ""
          }
        },
        "040d750434444d62992597916fbe3639": {
          "model_module": "@jupyter-widgets/base",
          "model_name": "LayoutModel",
          "model_module_version": "1.2.0",
          "state": {
            "_model_module": "@jupyter-widgets/base",
            "_model_module_version": "1.2.0",
            "_model_name": "LayoutModel",
            "_view_count": null,
            "_view_module": "@jupyter-widgets/base",
            "_view_module_version": "1.2.0",
            "_view_name": "LayoutView",
            "align_content": null,
            "align_items": null,
            "align_self": null,
            "border": null,
            "bottom": null,
            "display": null,
            "flex": null,
            "flex_flow": null,
            "grid_area": null,
            "grid_auto_columns": null,
            "grid_auto_flow": null,
            "grid_auto_rows": null,
            "grid_column": null,
            "grid_gap": null,
            "grid_row": null,
            "grid_template_areas": null,
            "grid_template_columns": null,
            "grid_template_rows": null,
            "height": null,
            "justify_content": null,
            "justify_items": null,
            "left": null,
            "margin": null,
            "max_height": null,
            "max_width": null,
            "min_height": null,
            "min_width": null,
            "object_fit": null,
            "object_position": null,
            "order": null,
            "overflow": null,
            "overflow_x": null,
            "overflow_y": null,
            "padding": null,
            "right": null,
            "top": null,
            "visibility": null,
            "width": null
          }
        },
        "cd4c1e4eda8e416f9711b24680527205": {
          "model_module": "@jupyter-widgets/controls",
          "model_name": "DescriptionStyleModel",
          "model_module_version": "1.5.0",
          "state": {
            "_model_module": "@jupyter-widgets/controls",
            "_model_module_version": "1.5.0",
            "_model_name": "DescriptionStyleModel",
            "_view_count": null,
            "_view_module": "@jupyter-widgets/base",
            "_view_module_version": "1.2.0",
            "_view_name": "StyleView",
            "description_width": ""
          }
        }
      }
    }
  },
  "nbformat": 4,
  "nbformat_minor": 0
}